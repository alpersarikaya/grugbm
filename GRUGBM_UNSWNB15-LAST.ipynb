{
 "cells": [
  {
   "cell_type": "code",
   "execution_count": 1,
   "metadata": {},
   "outputs": [
    {
     "name": "stderr",
     "output_type": "stream",
     "text": [
      "/home/alper/.local/lib/python3.6/site-packages/sklearn/utils/deprecation.py:143: FutureWarning: The sklearn.neighbors.base module is  deprecated in version 0.22 and will be removed in version 0.24. The corresponding classes / functions should instead be imported from sklearn.neighbors. Anything that cannot be imported from sklearn.neighbors is now part of the private API.\n",
      "  warnings.warn(message, FutureWarning)\n",
      "/home/alper/.local/lib/python3.6/site-packages/sklearn/utils/deprecation.py:143: FutureWarning: The sklearn.ensemble.bagging module is  deprecated in version 0.22 and will be removed in version 0.24. The corresponding classes / functions should instead be imported from sklearn.ensemble. Anything that cannot be imported from sklearn.ensemble is now part of the private API.\n",
      "  warnings.warn(message, FutureWarning)\n",
      "/home/alper/.local/lib/python3.6/site-packages/sklearn/utils/deprecation.py:143: FutureWarning: The sklearn.ensemble.base module is  deprecated in version 0.22 and will be removed in version 0.24. The corresponding classes / functions should instead be imported from sklearn.ensemble. Anything that cannot be imported from sklearn.ensemble is now part of the private API.\n",
      "  warnings.warn(message, FutureWarning)\n",
      "/home/alper/.local/lib/python3.6/site-packages/sklearn/utils/deprecation.py:143: FutureWarning: The sklearn.ensemble.forest module is  deprecated in version 0.22 and will be removed in version 0.24. The corresponding classes / functions should instead be imported from sklearn.ensemble. Anything that cannot be imported from sklearn.ensemble is now part of the private API.\n",
      "  warnings.warn(message, FutureWarning)\n",
      "Using TensorFlow backend.\n",
      "/home/alper/.local/lib/python3.6/site-packages/sklearn/utils/deprecation.py:143: FutureWarning: The sklearn.utils.testing module is  deprecated in version 0.22 and will be removed in version 0.24. The corresponding classes / functions should instead be imported from sklearn.utils. Anything that cannot be imported from sklearn.utils is now part of the private API.\n",
      "  warnings.warn(message, FutureWarning)\n",
      "/home/alper/.local/lib/python3.6/site-packages/sklearn/utils/deprecation.py:143: FutureWarning: The sklearn.metrics.classification module is  deprecated in version 0.22 and will be removed in version 0.24. The corresponding classes / functions should instead be imported from sklearn.metrics. Anything that cannot be imported from sklearn.metrics is now part of the private API.\n",
      "  warnings.warn(message, FutureWarning)\n"
     ]
    }
   ],
   "source": [
    "#REQUIRED LIBRARIES\n",
    "import numpy as np\n",
    "import tensorflow as tf\n",
    "from tensorflow.keras.preprocessing import sequence\n",
    "from tensorflow.keras.models import Sequential\n",
    "from tensorflow.keras.layers import Dense,Flatten\n",
    "from tensorflow.keras.layers import CuDNNGRU,GRU\n",
    "from sklearn.preprocessing import StandardScaler\n",
    "import pandas as pd\n",
    "from time import time\n",
    "from sklearn.model_selection import train_test_split\n",
    "from sklearn.metrics import accuracy_score,confusion_matrix,classification_report\n",
    "from numpy import newaxis\n",
    "from collections import Counter\n",
    "from imblearn.under_sampling import TomekLinks\n",
    "import os\n",
    "import random\n",
    "import lightgbm as gbm\n",
    "from sklearn.metrics import mean_squared_error,roc_auc_score,precision_score"
   ]
  },
  {
   "cell_type": "code",
   "execution_count": 2,
   "metadata": {},
   "outputs": [],
   "source": [
    "#REPRODUCABLE RESULT\n",
    "seed_value= 2020\n",
    "os.environ['PYTHONHASHSEED']=str(seed_value)\n",
    "random.seed(seed_value)\n",
    "np.random.seed(seed_value)\n",
    "tf.set_random_seed(seed_value)"
   ]
  },
  {
   "cell_type": "code",
   "execution_count": 3,
   "metadata": {},
   "outputs": [],
   "source": [
    "#DATASET LOADING\n",
    "training = pd.read_csv(\"UNSW_NB15_total_numeric_training.csv\")\n",
    "testing = pd.read_csv(\"UNSW_NB15_total_numeric_testing.csv\")\n",
    "\n",
    "x_tr = training.drop([\"id\",\"label\",\"attack_cat\"],axis=1)\n",
    "y_tr = training[[\"attack_cat\"]]\n",
    "                      \n",
    "x_ts = testing.drop([\"id\",\"label\",\"attack_cat\"],axis=1)\n",
    "y_ts = testing[[\"attack_cat\"]]"
   ]
  },
  {
   "cell_type": "code",
   "execution_count": 4,
   "metadata": {},
   "outputs": [],
   "source": [
    "#DATASET DIVIDING FOR TESTING\n",
    "x_tr_p1,x_tr_p2,y_tr_p1,y_tr_p2 = train_test_split(x_tr,y_tr,test_size=0.5,stratify=y_tr,random_state=34)"
   ]
  },
  {
   "cell_type": "code",
   "execution_count": 5,
   "metadata": {
    "scrolled": true
   },
   "outputs": [
    {
     "name": "stderr",
     "output_type": "stream",
     "text": [
      "/home/alper/.local/lib/python3.6/site-packages/lightgbm/basic.py:1205: UserWarning: Using categorical_feature in Dataset.\n",
      "  warnings.warn('Using categorical_feature in Dataset.')\n",
      "/home/alper/.local/lib/python3.6/site-packages/lightgbm/basic.py:1209: UserWarning: categorical_feature in Dataset is overridden.\n",
      "New categorical_feature is ['ct_ftp_cmd', 'dttl', 'is_ftp_login', 'service', 'state', 'sttl']\n",
      "  'New categorical_feature is {}'.format(sorted(list(categorical_feature))))\n",
      "/home/alper/.local/lib/python3.6/site-packages/lightgbm/basic.py:762: UserWarning: categorical_feature in param dict is overridden.\n",
      "  warnings.warn('categorical_feature in param dict is overridden.')\n"
     ]
    },
    {
     "name": "stdout",
     "output_type": "stream",
     "text": [
      "[1]\tvalid_0's multi_logloss: 1.67252\n",
      "Training until validation scores don't improve for 3 rounds.\n",
      "[2]\tvalid_0's multi_logloss: 1.6185\n",
      "[3]\tvalid_0's multi_logloss: 1.56725\n",
      "[4]\tvalid_0's multi_logloss: 1.52049\n",
      "[5]\tvalid_0's multi_logloss: 1.47705\n",
      "[6]\tvalid_0's multi_logloss: 1.43662\n",
      "[7]\tvalid_0's multi_logloss: 1.39854\n",
      "[8]\tvalid_0's multi_logloss: 1.36295\n",
      "[9]\tvalid_0's multi_logloss: 1.32901\n",
      "[10]\tvalid_0's multi_logloss: 1.29695\n",
      "[11]\tvalid_0's multi_logloss: 1.2665\n",
      "[12]\tvalid_0's multi_logloss: 1.23738\n",
      "[13]\tvalid_0's multi_logloss: 1.20968\n",
      "[14]\tvalid_0's multi_logloss: 1.18327\n",
      "[15]\tvalid_0's multi_logloss: 1.15807\n",
      "[16]\tvalid_0's multi_logloss: 1.13397\n",
      "[17]\tvalid_0's multi_logloss: 1.11091\n",
      "[18]\tvalid_0's multi_logloss: 1.08884\n",
      "[19]\tvalid_0's multi_logloss: 1.06763\n",
      "[20]\tvalid_0's multi_logloss: 1.04736\n",
      "[21]\tvalid_0's multi_logloss: 1.02769\n",
      "[22]\tvalid_0's multi_logloss: 1.00881\n",
      "[23]\tvalid_0's multi_logloss: 0.990631\n",
      "[24]\tvalid_0's multi_logloss: 0.973134\n",
      "[25]\tvalid_0's multi_logloss: 0.956294\n",
      "[26]\tvalid_0's multi_logloss: 0.940025\n",
      "[27]\tvalid_0's multi_logloss: 0.924338\n",
      "[28]\tvalid_0's multi_logloss: 0.909218\n",
      "[29]\tvalid_0's multi_logloss: 0.894646\n",
      "[30]\tvalid_0's multi_logloss: 0.880569\n",
      "[31]\tvalid_0's multi_logloss: 0.867011\n",
      "[32]\tvalid_0's multi_logloss: 0.853901\n",
      "[33]\tvalid_0's multi_logloss: 0.841226\n",
      "[34]\tvalid_0's multi_logloss: 0.828992\n",
      "[35]\tvalid_0's multi_logloss: 0.817201\n",
      "[36]\tvalid_0's multi_logloss: 0.805793\n",
      "[37]\tvalid_0's multi_logloss: 0.79477\n",
      "[38]\tvalid_0's multi_logloss: 0.784084\n",
      "[39]\tvalid_0's multi_logloss: 0.773752\n",
      "[40]\tvalid_0's multi_logloss: 0.763756\n",
      "[41]\tvalid_0's multi_logloss: 0.754084\n",
      "[42]\tvalid_0's multi_logloss: 0.744728\n",
      "[43]\tvalid_0's multi_logloss: 0.735678\n",
      "[44]\tvalid_0's multi_logloss: 0.726872\n",
      "[45]\tvalid_0's multi_logloss: 0.718353\n",
      "[46]\tvalid_0's multi_logloss: 0.710083\n",
      "[47]\tvalid_0's multi_logloss: 0.70206\n",
      "[48]\tvalid_0's multi_logloss: 0.694259\n",
      "[49]\tvalid_0's multi_logloss: 0.686671\n",
      "[50]\tvalid_0's multi_logloss: 0.679319\n",
      "Did not meet early stopping. Best iteration is:\n",
      "[50]\tvalid_0's multi_logloss: 0.679319\n",
      "Training 7.81 seconds:\n"
     ]
    }
   ],
   "source": [
    "#LIGHTGBM FEATURE SELECTION PROCESS\n",
    "start = time()\n",
    "lgb_train = gbm.Dataset(x_tr_p1,y_tr_p1,\n",
    "                        feature_name=['dur','proto','service','state','spkts','dpkts','sbytes','dbytes',\n",
    "                                      'rate','sttl','dttl','sload','dload','sloss','dloss','sinpkt','dinpkt',\n",
    "                                      'sjit','djit','swin','stcpb','dtcpb','dwin','tcprtt','synack','ackdat',\n",
    "                                      'smean','dmean','trans_depth','response_body_len','ct_srv_src',\n",
    "                                      'ct_state_ttl','ct_dst_ltm','ct_src_dport_ltm','ct_dst_sport_ltm',\n",
    "                                      'ct_dst_src_ltm','is_ftp_login','ct_ftp_cmd','ct_flw_http_mthd',\n",
    "                                      'ct_src_ltm','ct_srv_dst','is_sm_ips_ports'],\n",
    "                        categorical_feature=['service','state','sttl','dttl','is_ftp_login','ct_ftp_cmd'])\n",
    "\n",
    "lgb_eval = gbm.Dataset(x_tr_p1,y_tr_p1,reference=lgb_train)\n",
    "params = {\n",
    "    'task': 'train',\n",
    "    'objective': 'multiclass',\n",
    "    'metric': 'multi_logloss',\n",
    "    'num_class':10,\n",
    "    'learning_rate': 0.03,\n",
    "    'verbose': 0,\n",
    "    'tree_learner': 'voting',\n",
    "}\n",
    "evals={}\n",
    "clf = gbm.train(params,lgb_train,num_boost_round=50,valid_sets=lgb_eval,evals_result=evals,early_stopping_rounds=3)\n",
    "print(\"Training %.2f seconds:\" % ((time() - start)))"
   ]
  },
  {
   "cell_type": "code",
   "execution_count": 10,
   "metadata": {},
   "outputs": [
    {
     "data": {
      "text/plain": [
       "<matplotlib.axes._subplots.AxesSubplot at 0x7f3a0bbd7860>"
      ]
     },
     "execution_count": 10,
     "metadata": {},
     "output_type": "execute_result"
    },
    {
     "data": {
      "image/png": "[encoded data removed]",
      "text/plain": [
       "<Figure size 432x432 with 1 Axes>"
      ]
     },
     "metadata": {
      "needs_background": "light"
     },
     "output_type": "display_data"
    }
   ],
   "source": [
    "%matplotlib inline\n",
    "gbm.plot_importance(clf,figsize=(6, 6))"
   ]
  },
  {
   "cell_type": "code",
   "execution_count": 8,
   "metadata": {},
   "outputs": [],
   "source": [
    "imp=clf.feature_importance()\n",
    "name=clf.feature_name()\n",
    "feature_sorted=[]\n",
    "for i in np.argsort(imp):\n",
    "     feature_sorted.append(name[i])\n",
    "feature_sorted.reverse()\n",
    "f_set = feature_sorted"
   ]
  },
  {
   "cell_type": "code",
   "execution_count": 9,
   "metadata": {},
   "outputs": [
    {
     "data": {
      "text/plain": [
       "['smean',\n",
       " 'sbytes',\n",
       " 'dmean',\n",
       " 'proto',\n",
       " 'ct_srv_dst',\n",
       " 'ct_dst_src_ltm',\n",
       " 'dbytes',\n",
       " 'sload',\n",
       " 'response_body_len',\n",
       " 'synack',\n",
       " 'ct_srv_src',\n",
       " 'sttl',\n",
       " 'dur',\n",
       " 'service',\n",
       " 'djit',\n",
       " 'dtcpb',\n",
       " 'ct_src_ltm',\n",
       " 'dload',\n",
       " 'sjit',\n",
       " 'sloss',\n",
       " 'stcpb',\n",
       " 'tcprtt',\n",
       " 'ackdat',\n",
       " 'trans_depth',\n",
       " 'sinpkt',\n",
       " 'dloss',\n",
       " 'dpkts',\n",
       " 'ct_flw_http_mthd',\n",
       " 'dinpkt',\n",
       " 'rate',\n",
       " 'ct_src_dport_ltm',\n",
       " 'ct_dst_ltm',\n",
       " 'spkts',\n",
       " 'ct_dst_sport_ltm',\n",
       " 'dttl',\n",
       " 'state',\n",
       " 'ct_state_ttl',\n",
       " 'swin',\n",
       " 'ct_ftp_cmd',\n",
       " 'dwin',\n",
       " 'is_ftp_login',\n",
       " 'is_sm_ips_ports']"
      ]
     },
     "execution_count": 9,
     "metadata": {},
     "output_type": "execute_result"
    }
   ],
   "source": [
    "f_set"
   ]
  },
  {
   "cell_type": "code",
   "execution_count": 11,
   "metadata": {},
   "outputs": [
    {
     "name": "stdout",
     "output_type": "stream",
     "text": [
      "Top  42  feature accuracy result: 0.609332870713\n",
      "Top  41  feature accuracy result: 0.609332870713\n",
      "Top  40  feature accuracy result: 0.609332870713\n",
      "Top  39  feature accuracy result: 0.609332870713\n",
      "Top  38  feature accuracy result: 0.609332870713\n",
      "Top  37  feature accuracy result: 0.609332870713\n",
      "Top  36  feature accuracy result: 0.60884486988\n",
      "Top  35  feature accuracy result: 0.608590850285\n",
      "Top  34  feature accuracy result: 0.609073764098\n",
      "Top  33  feature accuracy result: 0.61044969843\n",
      "Top  32  feature accuracy result: 0.609960369238\n",
      "Top  31  feature accuracy result: 0.608289112693\n",
      "Top  30  feature accuracy result: 0.607051409068\n",
      "Top  29  feature accuracy result: 0.603632187016\n",
      "Top  28  feature accuracy result: 0.604073145447\n",
      "Top  27  feature accuracy result: 0.605031279863\n",
      "Top  26  feature accuracy result: 0.604783272737\n",
      "Top  25  feature accuracy result: 0.605030289262\n",
      "Top  24  feature accuracy result: 0.602770361617\n",
      "Top  23  feature accuracy result: 0.60697174027\n",
      "Top  22  feature accuracy result: 0.606041599781\n",
      "Top  21  feature accuracy result: 0.603795566021\n",
      "Top  20  feature accuracy result: 0.604339367336\n",
      "Top  19  feature accuracy result: 0.601621171862\n",
      "Top  18  feature accuracy result: 0.597999038969\n",
      "Top  17  feature accuracy result: 0.602705106404\n",
      "Top  16  feature accuracy result: 0.598883044333\n",
      "Top  15  feature accuracy result: 0.592000066704\n",
      "Top  14  feature accuracy result: 0.597872180121\n",
      "Top  13  feature accuracy result: 0.577756483444\n",
      "Top  12  feature accuracy result: 0.576084925734\n",
      "Top  11  feature accuracy result: 0.557204008291\n",
      "Top  10  feature accuracy result: 0.563074506018\n",
      "Top  9  feature accuracy result: 0.563790626233\n",
      "Top  8  feature accuracy result: 0.557364070571\n",
      "Top  7  feature accuracy result: 0.537236424733\n",
      "Top  6  feature accuracy result: 0.529578450597\n",
      "Top  5  feature accuracy result: 0.512956592144\n",
      "Top  4  feature accuracy result: 0.476020738118\n",
      "Top  3  feature accuracy result: 0.467803482318\n",
      "Top  2  feature accuracy result: 0.43125165793\n",
      "Top  1  feature accuracy result: 0.340051077274\n"
     ]
    }
   ],
   "source": [
    "acc_array = []\n",
    "for a in range(len(f_set)):\n",
    "    d_train=gbm.Dataset(x_tr_p2, label=y_tr_p2)\n",
    "    params = {\n",
    "        'task': 'train',\n",
    "        'objective': 'multiclass',\n",
    "        'metric': 'multi_logloss',\n",
    "        'num_class':10,\n",
    "        'learning_rate': 0.03,\n",
    "        'verbose': 0,\n",
    "        'tree_learner': 'voting',\n",
    "    }\n",
    "    #training the model\n",
    "    clf_2 = gbm.train(params,d_train,50)\n",
    "    y_pred = [np.argmax(line) for line in clf_2.predict(x_tr_p2)]\n",
    "    acc_score = precision_score(y_pred,y_tr_p2,average=None).mean()\n",
    "    acc_array.append(acc_score)\n",
    "    print (\"Top \",len(f_set),\" feature accuracy result:\",acc_score)\n",
    "    x_tr_p2 = x_tr_p2.drop([f_set.pop()],axis=1)"
   ]
  },
  {
   "cell_type": "code",
   "execution_count": 12,
   "metadata": {},
   "outputs": [
    {
     "name": "stdout",
     "output_type": "stream",
     "text": [
      "Max accuracy 0.61044969843 with 33 features\n"
     ]
    }
   ],
   "source": [
    "print (\"Max accuracy\",np.max(acc_array),\"with\",42-np.argmax(acc_array),\"features\")"
   ]
  },
  {
   "cell_type": "code",
   "execution_count": 19,
   "metadata": {},
   "outputs": [
    {
     "data": {
      "image/png": "[encoded data removed]",
      "text/plain": [
       "<Figure size 432x288 with 1 Axes>"
      ]
     },
     "metadata": {
      "needs_background": "light"
     },
     "output_type": "display_data"
    }
   ],
   "source": [
    "import matplotlib.pyplot as plt\n",
    "acc_array.reverse()\n",
    "plt.plot(acc_array)\n",
    "plt.ylabel('Accuracy')\n",
    "plt.xlabel('Number of Features')\n",
    "plt.show()"
   ]
  },
  {
   "cell_type": "code",
   "execution_count": 20,
   "metadata": {},
   "outputs": [],
   "source": [
    "imp=clf.feature_importance()\n",
    "name=clf.feature_name()\n",
    "feature_sorted=[]\n",
    "for i in np.argsort(imp):\n",
    "     feature_sorted.append(name[i])\n",
    "feature_sorted.reverse()\n",
    "f_set = feature_sorted"
   ]
  },
  {
   "cell_type": "code",
   "execution_count": 21,
   "metadata": {},
   "outputs": [
    {
     "data": {
      "text/plain": [
       "['smean',\n",
       " 'sbytes',\n",
       " 'dmean',\n",
       " 'proto',\n",
       " 'ct_srv_dst',\n",
       " 'ct_dst_src_ltm',\n",
       " 'dbytes',\n",
       " 'sload',\n",
       " 'response_body_len',\n",
       " 'synack',\n",
       " 'ct_srv_src',\n",
       " 'sttl',\n",
       " 'dur',\n",
       " 'service',\n",
       " 'djit',\n",
       " 'dtcpb',\n",
       " 'ct_src_ltm',\n",
       " 'dload',\n",
       " 'sjit',\n",
       " 'sloss',\n",
       " 'stcpb',\n",
       " 'tcprtt']"
      ]
     },
     "execution_count": 21,
     "metadata": {},
     "output_type": "execute_result"
    }
   ],
   "source": [
    "f_set[:22]"
   ]
  },
  {
   "cell_type": "code",
   "execution_count": 5,
   "metadata": {},
   "outputs": [
    {
     "name": "stderr",
     "output_type": "stream",
     "text": [
      "/home/alper/.local/lib/python3.6/site-packages/sklearn/utils/validation.py:73: DataConversionWarning: A column-vector y was passed when a 1d array was expected. Please change the shape of y to (n_samples, ), for example using ravel().\n",
      "  return f(**kwargs)\n",
      "/home/alper/.local/lib/python3.6/site-packages/sklearn/utils/deprecation.py:86: FutureWarning: Function safe_indexing is deprecated; safe_indexing is deprecated in version 0.22 and will be removed in version 0.24.\n",
      "  warnings.warn(msg, category=FutureWarning)\n"
     ]
    }
   ],
   "source": [
    "x_tr_rnn = x_tr#[f_set[:23]]\n",
    "x_ts_rnn = x_ts#[f_set[:23]]\n",
    "y_tr_rnn = y_tr\n",
    "u_list = [0.0,5.0,6.0,7.0]\n",
    "t = TomekLinks(sampling_strategy=u_list,random_state=34)\n",
    "x_tr_rnn, y_tr_rnn = t.fit_resample(x_tr_rnn,y_tr_rnn)"
   ]
  },
  {
   "cell_type": "code",
   "execution_count": 6,
   "metadata": {},
   "outputs": [],
   "source": [
    "from sklearn.preprocessing import StandardScaler\n",
    "scaler = StandardScaler()\n",
    "\n",
    "x_tr_rnn = scaler.fit_transform(x_tr_rnn)\n",
    "x_ts_rnn = scaler.transform(x_ts_rnn)"
   ]
  },
  {
   "cell_type": "code",
   "execution_count": 7,
   "metadata": {},
   "outputs": [],
   "source": [
    "#PREPROCESSING FOR RECURRENT NETWORK\n",
    "x = np.array(x_tr_rnn,dtype=np.float32)\n",
    "y = np.array(y_tr_rnn,dtype=np.int32)\n",
    "max_features = 10\n",
    "y2 = np.zeros((y.shape[0], max_features),dtype=np.float32)\n",
    "y2[np.arange(y.shape[0]), y] = 1.0\n",
    "x = x[:,:,newaxis]"
   ]
  },
  {
   "cell_type": "code",
   "execution_count": 8,
   "metadata": {},
   "outputs": [],
   "source": [
    "x_ts_rnn = np.array(x_ts_rnn,dtype=np.float32)\n",
    "x_ts_rnn = x_ts_rnn[:,:,newaxis]"
   ]
  },
  {
   "cell_type": "code",
   "execution_count": 9,
   "metadata": {},
   "outputs": [
    {
     "name": "stdout",
     "output_type": "stream",
     "text": [
      "Epoch 1/10\n",
      "161390/161390 [==============================] - 75s 466us/step - loss: 0.6686 - acc: 0.7531\n",
      "Epoch 2/10\n",
      "161390/161390 [==============================] - 74s 456us/step - loss: 0.5369 - acc: 0.7958\n",
      "Epoch 3/10\n",
      "161390/161390 [==============================] - 74s 459us/step - loss: 0.5092 - acc: 0.8037\n",
      "Epoch 4/10\n",
      "161390/161390 [==============================] - 74s 461us/step - loss: 0.4933 - acc: 0.8091\n",
      "Epoch 5/10\n",
      "161390/161390 [==============================] - 74s 456us/step - loss: 0.4772 - acc: 0.8136\n",
      "Epoch 6/10\n",
      "161390/161390 [==============================] - 74s 459us/step - loss: 0.4690 - acc: 0.8160\n",
      "Epoch 7/10\n",
      "161390/161390 [==============================] - 75s 464us/step - loss: 0.4637 - acc: 0.8178\n",
      "Epoch 8/10\n",
      "161390/161390 [==============================] - 74s 461us/step - loss: 0.4542 - acc: 0.8209\n",
      "Epoch 9/10\n",
      "161390/161390 [==============================] - 75s 465us/step - loss: 0.4492 - acc: 0.8226\n",
      "Epoch 10/10\n",
      "161390/161390 [==============================] - 75s 465us/step - loss: 0.4449 - acc: 0.8240\n",
      "Training 744.72 seconds:\n"
     ]
    }
   ],
   "source": [
    "#GRUGBM_IDS\n",
    "from numpy.random import seed\n",
    "seed(1)\n",
    "from tensorflow import set_random_seed\n",
    "set_random_seed(2)\n",
    "from tensorflow.keras import regularizers\n",
    "model = Sequential()\n",
    "model.add(CuDNNGRU(120,input_shape=(None,1)))\n",
    "model.add(Dense(10,activation='sigmoid'))\n",
    "model.compile(loss='categorical_crossentropy',\n",
    "              optimizer='adam',\n",
    "              metrics=['accuracy'],)\n",
    "#TRAINING\n",
    "start = time()\n",
    "model.fit(x,y2,epochs=10)\n",
    "print(\"Training %.2f seconds:\" % ((time() - start)))"
   ]
  },
  {
   "cell_type": "code",
   "execution_count": 10,
   "metadata": {},
   "outputs": [
    {
     "name": "stdout",
     "output_type": "stream",
     "text": [
      "0.747655832483\n",
      "[[27138   423     1   209   951  7684     1   271   322     0]\n",
      " [    1     0     0     0   674     2     0     0     0     0]\n",
      " [    1     0     5     4   558     4     0     1    10     0]\n",
      " [   29     0     7   185  3684    98     1    24    61     0]\n",
      " [   92    12    20   175 10448   270     4    23    88     0]\n",
      " [  800     0     1     6  1649  3287     0   115   204     0]\n",
      " [    3     0     0    47   525   111 18151    17    17     0]\n",
      " [   17     0     3     6  1002   158     1  2106   203     0]\n",
      " [    4     0     1     0    68    49     0    20   236     0]\n",
      " [    1     0     0     1    39     3     0     0     0     0]]\n",
      "              precision    recall  f1-score   support\n",
      "\n",
      "           0       0.97      0.73      0.83     37000\n",
      "           1       0.00      0.00      0.00       677\n",
      "           2       0.13      0.01      0.02       583\n",
      "           3       0.29      0.05      0.08      4089\n",
      "           4       0.53      0.94      0.68     11132\n",
      "           5       0.28      0.54      0.37      6062\n",
      "           6       1.00      0.96      0.98     18871\n",
      "           7       0.82      0.60      0.69      3496\n",
      "           8       0.21      0.62      0.31       378\n",
      "           9       0.00      0.00      0.00        44\n",
      "\n",
      "    accuracy                           0.75     82332\n",
      "   macro avg       0.42      0.45      0.40     82332\n",
      "weighted avg       0.81      0.75      0.75     82332\n",
      "\n"
     ]
    },
    {
     "name": "stderr",
     "output_type": "stream",
     "text": [
      "/home/alper/.local/lib/python3.6/site-packages/sklearn/metrics/_classification.py:1221: UndefinedMetricWarning: Precision and F-score are ill-defined and being set to 0.0 in labels with no predicted samples. Use `zero_division` parameter to control this behavior.\n",
      "  _warn_prf(average, modifier, msg_start, len(result))\n"
     ]
    }
   ],
   "source": [
    "#TESTING DATA/ALL FEATURES WITH GRU\n",
    "pred_new = model.predict(x_ts_rnn)\n",
    "pred_new_clas = np.argmax(pred_new,axis=1)\n",
    "acc = accuracy_score(y_ts,pred_new_clas)\n",
    "conf=confusion_matrix(y_ts,pred_new_clas)\n",
    "print (acc)\n",
    "print (conf)\n",
    "print(classification_report(y_ts,pred_new_clas))"
   ]
  },
  {
   "cell_type": "code",
   "execution_count": null,
   "metadata": {},
   "outputs": [],
   "source": [
    "#DECISIONTREE\n",
    "from sklearn.tree import DecisionTreeClassifier\n",
    "clf3 = DecisionTreeClassifier(random_state=42,class_weight='balanced')\n",
    "x_tr_dt = x_tr[f_set[:23]]\n",
    "x_ts_dt = x_ts[f_set[:23]]\n",
    "clf3.fit(x_tr_dt,y_tr)\n",
    "dt_pred = clf3.predict(x_ts_dt)\n",
    "print (accuracy_score(y_ts,dt_pred))\n",
    "print (confusion_matrix(y_ts,dt_pred))\n",
    "print(classification_report(y_ts,dt_pred))"
   ]
  },
  {
   "cell_type": "code",
   "execution_count": null,
   "metadata": {},
   "outputs": [],
   "source": [
    "#KNN\n",
    "from sklearn.neighbors import KNeighborsClassifier\n",
    "###\n",
    "clf_knn = KNeighborsClassifier(n_neighbors=5)\n",
    "x_tr_knn = x_tr[f_set[:23]]\n",
    "x_ts_knn = x_ts[f_set[:23]]\n",
    "scaler = StandardScaler()\n",
    "x_tr_knn = scaler.fit_transform(x_tr_knn)\n",
    "x_ts_knn = scaler.transform(x_ts_knn)\n",
    "clf_knn.fit(x_tr_knn,y_tr)\n",
    "knn_pred = clf_knn.predict(x_ts)\n",
    "print (accuracy_score(y_ts,knn_pred))\n",
    "print (confusion_matrix(y_ts,knn_pred))\n",
    "print(classification_report(y_ts,knn_pred))###"
   ]
  },
  {
   "cell_type": "code",
   "execution_count": null,
   "metadata": {},
   "outputs": [],
   "source": [
    "from sklearn.naive_bayes import BernoulliNB\n",
    "clf_nb=BernoulliNB()\n",
    "x_tr_nb = x_tr[f_set[:23]]\n",
    "x_ts_nb = x_ts[f_set[:23]]\n",
    "scaler = StandardScaler()\n",
    "x_tr_nb = scaler.fit_transform(x_tr_nb)\n",
    "x_ts_nb = scaler.transform(x_ts_nb)\n",
    "clf_nb.fit(x_tr_nb,y_tr)\n",
    "nb_pred = clf_nb.predict(x_ts_nb)\n",
    "print (accuracy_score(y_ts,nb_pred))\n",
    "print (confusion_matrix(y_ts,nb_pred))\n",
    "print(classification_report(y_ts,nb_pred))###"
   ]
  }
 ],
 "metadata": {
  "kernelspec": {
   "display_name": "Python 3",
   "language": "python",
   "name": "python3"
  },
  "language_info": {
   "codemirror_mode": {
    "name": "ipython",
    "version": 3
   },
   "file_extension": ".py",
   "mimetype": "text/x-python",
   "name": "python",
   "nbconvert_exporter": "python",
   "pygments_lexer": "ipython3",
   "version": "3.6.9"
  }
 },
 "nbformat": 4,
 "nbformat_minor": 2
}
